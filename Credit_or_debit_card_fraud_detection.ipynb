{
  "nbformat": 4,
  "nbformat_minor": 0,
  "metadata": {
    "colab": {
      "provenance": []
    },
    "kernelspec": {
      "name": "python3",
      "display_name": "Python 3"
    },
    "language_info": {
      "name": "python"
    }
  },
  "cells": [
    {
      "cell_type": "code",
      "execution_count": null,
      "metadata": {
        "id": "jFLAaXRUmtwm"
      },
      "outputs": [],
      "source": [
        "import pandas as pd\n",
        "import numpy as np\n",
        "import matplotlib.pyplot as plt\n",
        "import seaborn as sns\n",
        "from sklearn.model_selection import train_test_split\n",
        "from sklearn.ensemble import RandomForestClassifier\n",
        "from sklearn.metrics import accuracy_score, classification_report, confusion_matrix, roc_curve, auc\n",
        "from tensorflow import keras\n",
        "from tensorflow.keras.models import Sequential\n",
        "from tensorflow.keras.layers import Dense, Dropout\n",
        "from imblearn.over_sampling import SMOTE"
      ]
    },
    {
      "cell_type": "code",
      "source": [
        "# Load dataset\n",
        "df = pd.read_csv(\"creditcard_2023.csv\")  # Update with the correct file path\n",
        "\n",
        "# Exploratory Data Analysis (EDA)\n",
        "print(df.info())"
      ],
      "metadata": {
        "colab": {
          "base_uri": "https://localhost:8080/"
        },
        "id": "2Bj5ntTzmzFU",
        "outputId": "25f7ac3f-4a9e-4d56-9351-e98e0d34e8c0"
      },
      "execution_count": null,
      "outputs": [
        {
          "output_type": "stream",
          "name": "stdout",
          "text": [
            "<class 'pandas.core.frame.DataFrame'>\n",
            "RangeIndex: 568630 entries, 0 to 568629\n",
            "Data columns (total 31 columns):\n",
            " #   Column  Non-Null Count   Dtype  \n",
            "---  ------  --------------   -----  \n",
            " 0   id      568630 non-null  int64  \n",
            " 1   V1      568630 non-null  float64\n",
            " 2   V2      568630 non-null  float64\n",
            " 3   V3      568630 non-null  float64\n",
            " 4   V4      568630 non-null  float64\n",
            " 5   V5      568630 non-null  float64\n",
            " 6   V6      568630 non-null  float64\n",
            " 7   V7      568630 non-null  float64\n",
            " 8   V8      568630 non-null  float64\n",
            " 9   V9      568630 non-null  float64\n",
            " 10  V10     568630 non-null  float64\n",
            " 11  V11     568630 non-null  float64\n",
            " 12  V12     568630 non-null  float64\n",
            " 13  V13     568630 non-null  float64\n",
            " 14  V14     568630 non-null  float64\n",
            " 15  V15     568630 non-null  float64\n",
            " 16  V16     568630 non-null  float64\n",
            " 17  V17     568630 non-null  float64\n",
            " 18  V18     568630 non-null  float64\n",
            " 19  V19     568630 non-null  float64\n",
            " 20  V20     568630 non-null  float64\n",
            " 21  V21     568630 non-null  float64\n",
            " 22  V22     568630 non-null  float64\n",
            " 23  V23     568630 non-null  float64\n",
            " 24  V24     568630 non-null  float64\n",
            " 25  V25     568630 non-null  float64\n",
            " 26  V26     568630 non-null  float64\n",
            " 27  V27     568630 non-null  float64\n",
            " 28  V28     568630 non-null  float64\n",
            " 29  Amount  568630 non-null  float64\n",
            " 30  Class   568630 non-null  int64  \n",
            "dtypes: float64(29), int64(2)\n",
            "memory usage: 134.5 MB\n",
            "None\n"
          ]
        }
      ]
    },
    {
      "cell_type": "code",
      "source": [
        "print(df.describe())"
      ],
      "metadata": {
        "colab": {
          "base_uri": "https://localhost:8080/"
        },
        "id": "vP5qI-L9nBNV",
        "outputId": "24ceee28-790b-4a04-f507-4e17b5934ddb"
      },
      "execution_count": null,
      "outputs": [
        {
          "output_type": "stream",
          "name": "stdout",
          "text": [
            "                  id            V1            V2            V3            V4  \\\n",
            "count  568630.000000  5.686300e+05  5.686300e+05  5.686300e+05  5.686300e+05   \n",
            "mean   284314.500000 -5.638058e-17 -1.319545e-16 -3.518788e-17 -2.879008e-17   \n",
            "std    164149.486121  1.000001e+00  1.000001e+00  1.000001e+00  1.000001e+00   \n",
            "min         0.000000 -3.495584e+00 -4.996657e+01 -3.183760e+00 -4.951222e+00   \n",
            "25%    142157.250000 -5.652859e-01 -4.866777e-01 -6.492987e-01 -6.560203e-01   \n",
            "50%    284314.500000 -9.363846e-02 -1.358939e-01  3.528579e-04 -7.376152e-02   \n",
            "75%    426471.750000  8.326582e-01  3.435552e-01  6.285380e-01  7.070047e-01   \n",
            "max    568629.000000  2.229046e+00  4.361865e+00  1.412583e+01  3.201536e+00   \n",
            "\n",
            "                 V5            V6            V7            V8            V9  \\\n",
            "count  5.686300e+05  5.686300e+05  5.686300e+05  5.686300e+05  5.686300e+05   \n",
            "mean   7.997245e-18 -3.958636e-17 -3.198898e-17  2.109273e-17  3.998623e-17   \n",
            "std    1.000001e+00  1.000001e+00  1.000001e+00  1.000001e+00  1.000001e+00   \n",
            "min   -9.952786e+00 -2.111111e+01 -4.351839e+00 -1.075634e+01 -3.751919e+00   \n",
            "25%   -2.934955e-01 -4.458712e-01 -2.835329e-01 -1.922572e-01 -5.687446e-01   \n",
            "50%    8.108788e-02  7.871758e-02  2.333659e-01 -1.145242e-01  9.252647e-02   \n",
            "75%    4.397368e-01  4.977881e-01  5.259548e-01  4.729905e-02  5.592621e-01   \n",
            "max    4.271689e+01  2.616840e+01  2.178730e+02  5.958040e+00  2.027006e+01   \n",
            "\n",
            "       ...           V21           V22           V23           V24  \\\n",
            "count  ...  5.686300e+05  5.686300e+05  5.686300e+05  5.686300e+05   \n",
            "mean   ...  4.758361e-17  3.948640e-18  6.194741e-18 -2.799036e-18   \n",
            "std    ...  1.000001e+00  1.000001e+00  1.000001e+00  1.000001e+00   \n",
            "min    ... -1.938252e+01 -7.734798e+00 -3.029545e+01 -4.067968e+00   \n",
            "25%    ... -1.664408e-01 -4.904892e-01 -2.376289e-01 -6.515801e-01   \n",
            "50%    ... -3.743065e-02 -2.732881e-02 -5.968903e-02  1.590123e-02   \n",
            "75%    ...  1.479787e-01  4.638817e-01  1.557153e-01  7.007374e-01   \n",
            "max    ...  8.087080e+00  1.263251e+01  3.170763e+01  1.296564e+01   \n",
            "\n",
            "                V25           V26           V27           V28         Amount  \\\n",
            "count  5.686300e+05  5.686300e+05  5.686300e+05  5.686300e+05  568630.000000   \n",
            "mean  -3.178905e-17 -7.497417e-18 -3.598760e-17  2.609101e-17   12041.957635   \n",
            "std    1.000001e+00  1.000001e+00  1.000001e+00  1.000001e+00    6919.644449   \n",
            "min   -1.361263e+01 -8.226969e+00 -1.049863e+01 -3.903524e+01      50.010000   \n",
            "25%   -5.541485e-01 -6.318948e-01 -3.049607e-01 -2.318783e-01    6054.892500   \n",
            "50%   -8.193162e-03 -1.189208e-02 -1.729111e-01 -1.392973e-02   12030.150000   \n",
            "75%    5.500147e-01  6.728879e-01  3.340230e-01  4.095903e-01   18036.330000   \n",
            "max    1.462151e+01  5.623285e+00  1.132311e+02  7.725594e+01   24039.930000   \n",
            "\n",
            "          Class  \n",
            "count  568630.0  \n",
            "mean        0.5  \n",
            "std         0.5  \n",
            "min         0.0  \n",
            "25%         0.0  \n",
            "50%         0.5  \n",
            "75%         1.0  \n",
            "max         1.0  \n",
            "\n",
            "[8 rows x 31 columns]\n"
          ]
        }
      ]
    },
    {
      "cell_type": "code",
      "source": [
        "print(df.isnull().sum())\n",
        "\n",
        "# Drop rows where y is NaN\n",
        "df = df.dropna(subset=['Class'])"
      ],
      "metadata": {
        "colab": {
          "base_uri": "https://localhost:8080/"
        },
        "id": "gTJrgVrHnIi0",
        "outputId": "b8639b05-8502-4d6b-8d54-1d77a76ac823"
      },
      "execution_count": null,
      "outputs": [
        {
          "output_type": "stream",
          "name": "stdout",
          "text": [
            "id        0\n",
            "V1        0\n",
            "V2        0\n",
            "V3        0\n",
            "V4        0\n",
            "V5        0\n",
            "V6        0\n",
            "V7        0\n",
            "V8        0\n",
            "V9        0\n",
            "V10       0\n",
            "V11       0\n",
            "V12       0\n",
            "V13       0\n",
            "V14       0\n",
            "V15       0\n",
            "V16       0\n",
            "V17       0\n",
            "V18       0\n",
            "V19       0\n",
            "V20       0\n",
            "V21       0\n",
            "V22       0\n",
            "V23       0\n",
            "V24       0\n",
            "V25       0\n",
            "V26       0\n",
            "V27       0\n",
            "V28       0\n",
            "Amount    0\n",
            "Class     0\n",
            "dtype: int64\n"
          ]
        }
      ]
    },
    {
      "cell_type": "code",
      "source": [
        "print(df.isnull().sum())"
      ],
      "metadata": {
        "colab": {
          "base_uri": "https://localhost:8080/"
        },
        "id": "_cKVJFzWt1q9",
        "outputId": "6cf85f89-0ab5-4c8d-e877-9a3e6f653dd4"
      },
      "execution_count": null,
      "outputs": [
        {
          "output_type": "stream",
          "name": "stdout",
          "text": [
            "id        0\n",
            "V1        0\n",
            "V2        0\n",
            "V3        0\n",
            "V4        0\n",
            "V5        0\n",
            "V6        0\n",
            "V7        0\n",
            "V8        0\n",
            "V9        0\n",
            "V10       0\n",
            "V11       0\n",
            "V12       0\n",
            "V13       0\n",
            "V14       0\n",
            "V15       0\n",
            "V16       0\n",
            "V17       0\n",
            "V18       0\n",
            "V19       0\n",
            "V20       0\n",
            "V21       0\n",
            "V22       0\n",
            "V23       0\n",
            "V24       0\n",
            "V25       0\n",
            "V26       0\n",
            "V27       0\n",
            "V28       0\n",
            "Amount    0\n",
            "Class     0\n",
            "dtype: int64\n"
          ]
        }
      ]
    },
    {
      "cell_type": "code",
      "source": [
        "# Splitting features and target\n",
        "X = df.drop(columns=['Class'])  # Features\n",
        "y = df['Class']  # Target\n"
      ],
      "metadata": {
        "id": "FyTpOoyRnRHT"
      },
      "execution_count": null,
      "outputs": []
    },
    {
      "cell_type": "code",
      "source": [
        "# Handling imbalance using SMOTE\n",
        "smote = SMOTE(sampling_strategy=\"auto\", random_state=42)\n",
        "X_resampled, y_resampled = smote.fit_resample(X, y)"
      ],
      "metadata": {
        "id": "TpAaMpeknUni"
      },
      "execution_count": null,
      "outputs": []
    },
    {
      "cell_type": "code",
      "source": [
        "# Train-test split\n",
        "X_train, X_test, y_train, y_test = train_test_split(X_resampled, y_resampled, test_size=0.2, random_state=42)"
      ],
      "metadata": {
        "id": "AiFx7dLVnUQY"
      },
      "execution_count": null,
      "outputs": []
    },
    {
      "cell_type": "code",
      "source": [
        "# Random Forest Model\n",
        "rf_model = RandomForestClassifier(n_estimators=100, random_state=42)\n",
        "rf_model.fit(X_train, y_train)\n",
        "y_pred_rf = rf_model.predict(X_test)"
      ],
      "metadata": {
        "id": "7NyFhuCVny5m"
      },
      "execution_count": null,
      "outputs": []
    },
    {
      "cell_type": "code",
      "source": [
        "# RF Model Evaluation\n",
        "print(\"Random Forest Performance:\")\n",
        "print(classification_report(y_test, y_pred_rf))"
      ],
      "metadata": {
        "colab": {
          "base_uri": "https://localhost:8080/"
        },
        "id": "QEvq_gyIn1YK",
        "outputId": "f538cf84-f298-444c-8c24-17b5c83bbdf0"
      },
      "execution_count": null,
      "outputs": [
        {
          "output_type": "stream",
          "name": "stdout",
          "text": [
            "Random Forest Performance:\n",
            "              precision    recall  f1-score   support\n",
            "\n",
            "           0       1.00      1.00      1.00     56750\n",
            "           1       1.00      1.00      1.00     56976\n",
            "\n",
            "    accuracy                           1.00    113726\n",
            "   macro avg       1.00      1.00      1.00    113726\n",
            "weighted avg       1.00      1.00      1.00    113726\n",
            "\n"
          ]
        }
      ]
    },
    {
      "cell_type": "code",
      "source": [
        "# Confusion Matrix\n",
        "plt.figure(figsize=(6, 4))\n",
        "sns.heatmap(confusion_matrix(y_test, y_pred_rf), annot=True, fmt='d', cmap='Blues')\n",
        "plt.title(\"Random Forest Confusion Matrix\")\n",
        "plt.show()"
      ],
      "metadata": {
        "colab": {
          "base_uri": "https://localhost:8080/",
          "height": 391
        },
        "id": "VhJQ7vIFn3-f",
        "outputId": "0603ecad-1acb-4626-8929-84a919a262c6"
      },
      "execution_count": null,
      "outputs": [
        {
          "output_type": "display_data",
          "data": {
            "text/plain": [
              "<Figure size 600x400 with 2 Axes>"
            ],
            "image/png": "[encoded data removed]"
          },
          "metadata": {}
        }
      ]
    },
    {
      "cell_type": "code",
      "source": [
        "# Deep Neural Network (DNN)\n",
        "dnn_model = Sequential([\n",
        "    Dense(64, activation='relu', input_shape=(X_train.shape[1],)),\n",
        "    Dropout(0.3),\n",
        "    Dense(32, activation='relu'),\n",
        "    Dropout(0.3),\n",
        "    Dense(1, activation='sigmoid')\n",
        "])\n",
        "dnn_model.compile(optimizer='adam', loss='binary_crossentropy', metrics=['accuracy'])"
      ],
      "metadata": {
        "colab": {
          "base_uri": "https://localhost:8080/"
        },
        "id": "2r1zSGeVn58E",
        "outputId": "f14503aa-b4a9-45f0-d02b-aa1cf585cedd"
      },
      "execution_count": null,
      "outputs": [
        {
          "output_type": "stream",
          "name": "stderr",
          "text": [
            "/usr/local/lib/python3.11/dist-packages/keras/src/layers/core/dense.py:87: UserWarning: Do not pass an `input_shape`/`input_dim` argument to a layer. When using Sequential models, prefer using an `Input(shape)` object as the first layer in the model instead.\n",
            "  super().__init__(activity_regularizer=activity_regularizer, **kwargs)\n"
          ]
        }
      ]
    },
    {
      "cell_type": "code",
      "source": [
        "# Train DNN\n",
        "dnn_model.fit(X_train, y_train, epochs=10, batch_size=32, validation_data=(X_test, y_test))"
      ],
      "metadata": {
        "colab": {
          "base_uri": "https://localhost:8080/"
        },
        "id": "X2iQUNUqn9SD",
        "outputId": "a4af05a5-f98a-4b06-f67e-70fbb98616f9"
      },
      "execution_count": null,
      "outputs": [
        {
          "output_type": "stream",
          "name": "stdout",
          "text": [
            "Epoch 1/10\n",
            "\u001b[1m14216/14216\u001b[0m \u001b[32m━━━━━━━━━━━━━━━━━━━━\u001b[0m\u001b[37m\u001b[0m \u001b[1m37s\u001b[0m 3ms/step - accuracy: 0.5271 - loss: 188.1777 - val_accuracy: 0.5601 - val_loss: 0.6546\n",
            "Epoch 2/10\n",
            "\u001b[1m14216/14216\u001b[0m \u001b[32m━━━━━━━━━━━━━━━━━━━━\u001b[0m\u001b[37m\u001b[0m \u001b[1m42s\u001b[0m 3ms/step - accuracy: 0.6097 - loss: 0.6552 - val_accuracy: 0.7631 - val_loss: 0.4870\n",
            "Epoch 3/10\n",
            "\u001b[1m14216/14216\u001b[0m \u001b[32m━━━━━━━━━━━━━━━━━━━━\u001b[0m\u001b[37m\u001b[0m \u001b[1m45s\u001b[0m 3ms/step - accuracy: 0.7076 - loss: 0.5692 - val_accuracy: 0.7252 - val_loss: 0.5236\n",
            "Epoch 4/10\n",
            "\u001b[1m14216/14216\u001b[0m \u001b[32m━━━━━━━━━━━━━━━━━━━━\u001b[0m\u001b[37m\u001b[0m \u001b[1m40s\u001b[0m 3ms/step - accuracy: 0.7426 - loss: 0.5195 - val_accuracy: 0.7284 - val_loss: 0.5100\n",
            "Epoch 5/10\n",
            "\u001b[1m14216/14216\u001b[0m \u001b[32m━━━━━━━━━━━━━━━━━━━━\u001b[0m\u001b[37m\u001b[0m \u001b[1m45s\u001b[0m 3ms/step - accuracy: 0.7496 - loss: 0.5154 - val_accuracy: 0.7705 - val_loss: 0.4711\n",
            "Epoch 6/10\n",
            "\u001b[1m14216/14216\u001b[0m \u001b[32m━━━━━━━━━━━━━━━━━━━━\u001b[0m\u001b[37m\u001b[0m \u001b[1m41s\u001b[0m 3ms/step - accuracy: 0.7608 - loss: 0.4981 - val_accuracy: 0.7930 - val_loss: 0.4543\n",
            "Epoch 7/10\n",
            "\u001b[1m14216/14216\u001b[0m \u001b[32m━━━━━━━━━━━━━━━━━━━━\u001b[0m\u001b[37m\u001b[0m \u001b[1m45s\u001b[0m 3ms/step - accuracy: 0.7809 - loss: 0.4752 - val_accuracy: 0.7768 - val_loss: 0.4638\n",
            "Epoch 8/10\n",
            "\u001b[1m14216/14216\u001b[0m \u001b[32m━━━━━━━━━━━━━━━━━━━━\u001b[0m\u001b[37m\u001b[0m \u001b[1m78s\u001b[0m 3ms/step - accuracy: 0.7842 - loss: 0.4677 - val_accuracy: 0.7949 - val_loss: 0.4498\n",
            "Epoch 9/10\n",
            "\u001b[1m14216/14216\u001b[0m \u001b[32m━━━━━━━━━━━━━━━━━━━━\u001b[0m\u001b[37m\u001b[0m \u001b[1m77s\u001b[0m 3ms/step - accuracy: 0.7867 - loss: 0.4722 - val_accuracy: 0.7963 - val_loss: 0.4383\n",
            "Epoch 10/10\n",
            "\u001b[1m14216/14216\u001b[0m \u001b[32m━━━━━━━━━━━━━━━━━━━━\u001b[0m\u001b[37m\u001b[0m \u001b[1m35s\u001b[0m 2ms/step - accuracy: 0.7859 - loss: 0.4639 - val_accuracy: 0.7833 - val_loss: 0.4533\n"
          ]
        },
        {
          "output_type": "execute_result",
          "data": {
            "text/plain": [
              "<keras.src.callbacks.history.History at 0x7ab43d4e9d90>"
            ]
          },
          "metadata": {},
          "execution_count": 16
        }
      ]
    },
    {
      "cell_type": "code",
      "source": [
        "# DNN Evaluation\n",
        "y_pred_dnn = (dnn_model.predict(X_test) > 0.5).astype(\"int32\")\n",
        "print(\"DNN Performance:\")\n",
        "print(classification_report(y_test, y_pred_dnn))"
      ],
      "metadata": {
        "colab": {
          "base_uri": "https://localhost:8080/"
        },
        "id": "h70HUV_fn-4s",
        "outputId": "daf5922b-7318-4cb3-9af4-556b48f928e5"
      },
      "execution_count": null,
      "outputs": [
        {
          "output_type": "stream",
          "name": "stdout",
          "text": [
            "\u001b[1m3554/3554\u001b[0m \u001b[32m━━━━━━━━━━━━━━━━━━━━\u001b[0m\u001b[37m\u001b[0m \u001b[1m5s\u001b[0m 1ms/step\n",
            "DNN Performance:\n",
            "              precision    recall  f1-score   support\n",
            "\n",
            "           0       0.98      0.58      0.73     56750\n",
            "           1       0.70      0.99      0.82     56976\n",
            "\n",
            "    accuracy                           0.78    113726\n",
            "   macro avg       0.84      0.78      0.77    113726\n",
            "weighted avg       0.84      0.78      0.77    113726\n",
            "\n"
          ]
        }
      ]
    },
    {
      "cell_type": "code",
      "source": [
        "# Comparison of Models\n",
        "rf_acc = accuracy_score(y_test, y_pred_rf)\n",
        "dnn_acc = accuracy_score(y_test, y_pred_dnn)\n",
        "print(f\"Random Forest Accuracy: {rf_acc:.4f}\")\n",
        "print(f\"DNN Accuracy: {dnn_acc:.4f}\")"
      ],
      "metadata": {
        "colab": {
          "base_uri": "https://localhost:8080/"
        },
        "id": "JYAeZNkAoAN-",
        "outputId": "8e0d0a88-d318-4d90-90b3-4023e548c8da"
      },
      "execution_count": null,
      "outputs": [
        {
          "output_type": "stream",
          "name": "stdout",
          "text": [
            "Random Forest Accuracy: 0.9998\n",
            "DNN Accuracy: 0.7833\n"
          ]
        }
      ]
    },
    {
      "cell_type": "code",
      "source": [
        "# Bar Plot Comparison\n",
        "plt.bar([\"Random Forest\", \"DNN\"], [rf_acc, dnn_acc], color=['blue', 'green'])\n",
        "plt.ylabel(\"Accuracy\")\n",
        "plt.title(\"Model Accuracy Comparison\")\n",
        "plt.show()\n"
      ],
      "metadata": {
        "colab": {
          "base_uri": "https://localhost:8080/",
          "height": 452
        },
        "id": "Nz4n-3A8oBon",
        "outputId": "81f94cff-e26e-4dc0-f594-8eeb41783c0f"
      },
      "execution_count": null,
      "outputs": [
        {
          "output_type": "display_data",
          "data": {
            "text/plain": [
              "<Figure size 640x480 with 1 Axes>"
            ],
            "image/png": "[encoded data removed]"
          },
          "metadata": {}
        }
      ]
    },
    {
      "cell_type": "code",
      "source": [
        "from sklearn.metrics import roc_curve, auc\n",
        "\n",
        "# Get predicted probabilities for DNN\n",
        "y_prob_dnn = dnn_model.predict(X_test)\n",
        "\n",
        "# Get predicted probabilities for Random Forest\n",
        "y_prob_rf = rf_model.predict_proba(X_test)[:, 1]  # Probability of class 1\n",
        "\n",
        "# Calculate ROC curve and AUC for DNN\n",
        "fpr_dnn, tpr_dnn, thresholds_dnn = roc_curve(y_test, y_prob_dnn)\n",
        "roc_auc_dnn = auc(fpr_dnn, tpr_dnn)\n",
        "\n",
        "# Calculate ROC curve and AUC for Random Forest\n",
        "fpr_rf, tpr_rf, thresholds_rf = roc_curve(y_test, y_prob_rf)\n",
        "roc_auc_rf = auc(fpr_rf, tpr_rf)\n",
        "\n",
        "# --- Plotting ---\n",
        "plt.figure(figsize=(8, 6))\n",
        "plt.plot(fpr_rf, tpr_rf, color='blue', lw=2, label=f'Random Forest (AUC = {roc_auc_rf:.2f})')\n",
        "plt.plot(fpr_dnn, tpr_dnn, color='green', lw=2, label=f'DNN (AUC = {roc_auc_dnn:.2f})')\n",
        "plt.plot([0, 1], [0, 1], color='gray', lw=2, linestyle='--')  # Diagonal line\n",
        "plt.xlabel('False Positive Rate')\n",
        "plt.ylabel('True Positive Rate')\n",
        "plt.title('Receiver Operating Characteristic (ROC) Curve')\n",
        "plt.legend(loc='lower right')\n",
        "plt.show()"
      ],
      "metadata": {
        "id": "mcb3qswzoCZ-",
        "colab": {
          "base_uri": "https://localhost:8080/",
          "height": 581
        },
        "outputId": "b698ba10-eed9-418f-979a-fe516505b957"
      },
      "execution_count": null,
      "outputs": [
        {
          "output_type": "stream",
          "name": "stdout",
          "text": [
            "\u001b[1m3554/3554\u001b[0m \u001b[32m━━━━━━━━━━━━━━━━━━━━\u001b[0m\u001b[37m\u001b[0m \u001b[1m8s\u001b[0m 2ms/step\n"
          ]
        },
        {
          "output_type": "display_data",
          "data": {
            "text/plain": [
              "<Figure size 800x600 with 1 Axes>"
            ],
            "image/png": "[encoded data removed]"
          },
          "metadata": {}
        }
      ]
    },
    {
      "cell_type": "code",
      "source": [],
      "metadata": {
        "id": "qi-punfMj1o2"
      },
      "execution_count": null,
      "outputs": []
    }
  ]
}